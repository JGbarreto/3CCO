{
 "cells": [
  {
   "cell_type": "code",
   "execution_count": 32,
   "metadata": {},
   "outputs": [],
   "source": [
    "def levenshtein (str1, str2):\n",
    "    len1 = len(str1)\n",
    "    len2 = len(str2)\n",
    "    matrix = [[0 for x in range(len2+1)] for y in range(len1+1)]\n",
    "    for i in range(len1+1):\n",
    "        for j in range(len2+1):\n",
    "            if i == 0: \n",
    "                matrix[0][j] = j\n",
    "            elif j == 0:\n",
    "                matrix[i][0] = i\n",
    "            else:\n",
    "                cost = 0 if str1[i-1] == str2[j-1] else 1\n",
    "                matrix[i][j] = min(matrix[i-1][j] + 1, matrix[i][j-1] + 1, matrix[i-1][j-1] + cost)\n",
    "    return matrix[len1][len2]"
   ]
  },
  {
   "cell_type": "code",
   "execution_count": 55,
   "metadata": {},
   "outputs": [],
   "source": [
    "def did_you_mean(main_word, input_word):\n",
    "    iterations = levenshtein(main_word, input_word)\n",
    "    if  iterations <= len(main_word)/2 and iterations != 0:\n",
    "        print(f'Você quis dizer \"{main_word}\"?\\n')\n",
    "        return main_word\n",
    "    print(\"Nome correto!\\n\")\n",
    "    return input_word"
   ]
  },
  {
   "cell_type": "code",
   "execution_count": 57,
   "metadata": {},
   "outputs": [
    {
     "name": "stdout",
     "output_type": "stream",
     "text": [
      "Nome digitado: Saphnelo\n",
      "Nome correto!\n",
      "\n",
      "Nome digitado: Sapranelo\n",
      "Você quis dizer \"Saphnelo\"?\n",
      "\n",
      "Nome digitado: Saranelo\n",
      "Você quis dizer \"Saphnelo\"?\n",
      "\n",
      "Nome digitado: Zarynelo\n",
      "Você quis dizer \"Saphnelo\"?\n",
      "\n",
      "Nome digitado: Sarimela\n",
      "Você quis dizer \"Saphnelo\"?\n",
      "\n",
      "Nome digitado: Sarymeli\n",
      "Você quis dizer \"Saphnelo\"?\n",
      "\n"
     ]
    }
   ],
   "source": [
    "nome0 = \"Saphnelo\"\n",
    "nome1 = \"Sapranelo\"\n",
    "nome2 = \"Saranelo\"\n",
    "nome3 = \"Zarynelo\"\n",
    "nome4 = \"Sarimela\"\n",
    "nome5 = \"Sarymeli\"\n",
    "nomes = [nome0, nome1, nome2, nome3, nome4, nome5]\n",
    "for nome in nomes:\n",
    "    print(\"Nome digitado:\", nome)\n",
    "    did_you_mean(nome0, nome)"
   ]
  }
 ],
 "metadata": {
  "kernelspec": {
   "display_name": "Python 3",
   "language": "python",
   "name": "python3"
  },
  "language_info": {
   "codemirror_mode": {
    "name": "ipython",
    "version": 3
   },
   "file_extension": ".py",
   "mimetype": "text/x-python",
   "name": "python",
   "nbconvert_exporter": "python",
   "pygments_lexer": "ipython3",
   "version": "3.12.2"
  }
 },
 "nbformat": 4,
 "nbformat_minor": 2
}
